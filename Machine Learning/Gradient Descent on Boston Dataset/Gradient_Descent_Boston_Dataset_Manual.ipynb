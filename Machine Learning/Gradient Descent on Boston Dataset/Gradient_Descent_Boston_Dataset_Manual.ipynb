{
 "cells": [
  {
   "cell_type": "code",
   "execution_count": 105,
   "id": "1ad89bc2",
   "metadata": {
    "scrolled": false
   },
   "outputs": [],
   "source": [
    "import numpy as np"
   ]
  },
  {
   "cell_type": "code",
   "execution_count": 106,
   "id": "065b395c",
   "metadata": {},
   "outputs": [],
   "source": [
    "def run():\n",
    "    learning_rate = 0.0001\n",
    "    num_iterations = 1000\n",
    "    data = np.genfromtxt('training_boston_x_y_train.csv',delimiter=',')\n",
    "    m,c = gd(data, learning_rate, num_iterations)\n",
    "    data_test = np.genfromtxt('test_boston_x_test.csv',delimiter=',')\n",
    "    d = data_test*m\n",
    "    #Number of Datasets\n",
    "    n = len(data_test)\n",
    "    #Calculating the predictions\n",
    "    predictions=np.dot(d,c)/n\n",
    "    np.savetxt(\"Predictions.csv\",predictions,fmt='%1.5f')\n",
    "    print(predictions)"
   ]
  },
  {
   "cell_type": "code",
   "execution_count": 107,
   "id": "4ae32b63",
   "metadata": {},
   "outputs": [],
   "source": [
    "def gd(points, learning_rate, num_iterations):\n",
    "    m = 0\n",
    "    c = 0\n",
    "    for i in range(num_iterations):\n",
    "        m,c = step_gradient(points, learning_rate, m, c)\n",
    "    return m,c"
   ]
  },
  {
   "cell_type": "code",
   "execution_count": 108,
   "id": "495e75c1",
   "metadata": {},
   "outputs": [],
   "source": [
    "def step_gradient(points, learning_rate, m, c):\n",
    "    N = len(points)\n",
    "    m_slope = 0\n",
    "    c_slope = 0\n",
    "    for i in range(N):\n",
    "        x = points[i,0:13]\n",
    "        y = points[i,13]\n",
    "        m_slope += (-2/N)*(y-m*x-c)*x\n",
    "        c_slope += (-2/N)*(y-m*x-c)\n",
    "    new_m = m - learning_rate*m_slope\n",
    "    new_c = c - learning_rate*c_slope\n",
    "    return new_m, new_c"
   ]
  },
  {
   "cell_type": "code",
   "execution_count": 109,
   "id": "b6b76178",
   "metadata": {},
   "outputs": [
    {
     "name": "stdout",
     "output_type": "stream",
     "text": [
      "[-0.33451607  0.15544419 -0.00546586  0.15366897 -0.00714434 -0.29710604\n",
      "  0.1397452   0.07085588 -0.02045588  0.05449446  0.1016938  -0.02962712\n",
      "  0.08796654  0.03504309  0.21497547  0.15666001  0.10424516  0.10052976\n",
      "  0.11558511  0.14518263  0.00613721 -0.03970235  0.0647596   0.25445934\n",
      "  0.30462983 -0.22727119  0.00520031  0.21096924  0.02674607  0.14341182\n",
      " -0.02823055  0.08972524  0.02298678  0.09922505 -0.25033879  0.08763506\n",
      "  0.14442625 -0.03067035  0.13264505 -0.33145075 -0.37811165  0.17445501\n",
      "  0.25705819 -0.08672024 -0.13934943 -0.41920562  0.2229857   0.05376321\n",
      "  0.31771569 -0.20507249 -0.21641689  0.36509997 -0.19921219 -0.02939497\n",
      " -0.0451913   0.05523229 -0.01700426  0.05832506 -0.07703397 -0.20247759\n",
      " -0.29869789  0.0844144   0.07844408  0.09760704 -0.21847357 -0.24230761\n",
      "  0.16416986 -0.20845295  0.06787357 -0.0856857   0.13105243 -0.01943366\n",
      " -0.13538897 -0.38380488  0.33358436  0.11131654  0.16641678  0.13959746\n",
      " -0.23875275  0.30989515 -0.16559478 -0.01119251  0.08839329 -0.08018021\n",
      " -0.19322358  0.19870479  0.17158362 -0.36472644 -0.06510497 -0.18060333\n",
      "  0.06904416 -0.03642154 -0.03911319 -0.26741262  0.01335725 -0.02270932\n",
      "  0.37001029 -0.09293809  0.27748289  0.19455491  0.0727331   0.07245478\n",
      "  0.10732308  0.14449757 -0.22803439  0.09091402  0.09808419  0.35329721\n",
      "  0.12912172 -0.2467098   0.239146   -0.45039687 -0.10546701 -0.25299954\n",
      "  0.22442946 -0.05699141  0.02150717  0.07957376  0.1075765  -0.12451613\n",
      " -0.07672069  0.2273571   0.03953719  0.08538682  0.18542073 -0.03834659\n",
      " -0.19148761]\n"
     ]
    }
   ],
   "source": [
    "run()"
   ]
  },
  {
   "cell_type": "code",
   "execution_count": null,
   "id": "9f76930d",
   "metadata": {},
   "outputs": [],
   "source": []
  }
 ],
 "metadata": {
  "kernelspec": {
   "display_name": "Python 3 (ipykernel)",
   "language": "python",
   "name": "python3"
  },
  "language_info": {
   "codemirror_mode": {
    "name": "ipython",
    "version": 3
   },
   "file_extension": ".py",
   "mimetype": "text/x-python",
   "name": "python",
   "nbconvert_exporter": "python",
   "pygments_lexer": "ipython3",
   "version": "3.9.16"
  }
 },
 "nbformat": 4,
 "nbformat_minor": 5
}
