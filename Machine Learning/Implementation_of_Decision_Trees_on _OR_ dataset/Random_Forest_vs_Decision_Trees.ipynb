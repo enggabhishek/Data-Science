{
 "cells": [
  {
   "cell_type": "code",
   "execution_count": 26,
   "metadata": {},
   "outputs": [],
   "source": [
    "import numpy as np\n",
    "import pandas as pd"
   ]
  },
  {
   "cell_type": "code",
   "execution_count": 27,
   "metadata": {},
   "outputs": [
    {
     "name": "stdout",
     "output_type": "stream",
     "text": [
      "(891, 11)\n"
     ]
    },
    {
     "data": {
      "text/html": [
       "<div>\n",
       "<style scoped>\n",
       "    .dataframe tbody tr th:only-of-type {\n",
       "        vertical-align: middle;\n",
       "    }\n",
       "\n",
       "    .dataframe tbody tr th {\n",
       "        vertical-align: top;\n",
       "    }\n",
       "\n",
       "    .dataframe thead th {\n",
       "        text-align: right;\n",
       "    }\n",
       "</style>\n",
       "<table border=\"1\" class=\"dataframe\">\n",
       "  <thead>\n",
       "    <tr style=\"text-align: right;\">\n",
       "      <th></th>\n",
       "      <th>Pclass</th>\n",
       "      <th>Name</th>\n",
       "      <th>Sex</th>\n",
       "      <th>Age</th>\n",
       "      <th>SibSp</th>\n",
       "      <th>Parch</th>\n",
       "      <th>Ticket</th>\n",
       "      <th>Fare</th>\n",
       "      <th>Cabin</th>\n",
       "      <th>Embarked</th>\n",
       "      <th>Survived</th>\n",
       "    </tr>\n",
       "  </thead>\n",
       "  <tbody>\n",
       "    <tr>\n",
       "      <th>0</th>\n",
       "      <td>2</td>\n",
       "      <td>Weisz, Mrs. Leopold (Mathilde Francoise Pede)</td>\n",
       "      <td>female</td>\n",
       "      <td>29.0</td>\n",
       "      <td>1</td>\n",
       "      <td>0</td>\n",
       "      <td>228414</td>\n",
       "      <td>26.000</td>\n",
       "      <td>NaN</td>\n",
       "      <td>S</td>\n",
       "      <td>1</td>\n",
       "    </tr>\n",
       "    <tr>\n",
       "      <th>1</th>\n",
       "      <td>3</td>\n",
       "      <td>Williams, Mr. Howard Hugh \"Harry\"</td>\n",
       "      <td>male</td>\n",
       "      <td>NaN</td>\n",
       "      <td>0</td>\n",
       "      <td>0</td>\n",
       "      <td>A/5 2466</td>\n",
       "      <td>8.050</td>\n",
       "      <td>NaN</td>\n",
       "      <td>S</td>\n",
       "      <td>0</td>\n",
       "    </tr>\n",
       "    <tr>\n",
       "      <th>2</th>\n",
       "      <td>2</td>\n",
       "      <td>Morley, Mr. Henry Samuel (\"Mr Henry Marshall\")</td>\n",
       "      <td>male</td>\n",
       "      <td>39.0</td>\n",
       "      <td>0</td>\n",
       "      <td>0</td>\n",
       "      <td>250655</td>\n",
       "      <td>26.000</td>\n",
       "      <td>NaN</td>\n",
       "      <td>S</td>\n",
       "      <td>0</td>\n",
       "    </tr>\n",
       "    <tr>\n",
       "      <th>3</th>\n",
       "      <td>3</td>\n",
       "      <td>Palsson, Mrs. Nils (Alma Cornelia Berglund)</td>\n",
       "      <td>female</td>\n",
       "      <td>29.0</td>\n",
       "      <td>0</td>\n",
       "      <td>4</td>\n",
       "      <td>349909</td>\n",
       "      <td>21.075</td>\n",
       "      <td>NaN</td>\n",
       "      <td>S</td>\n",
       "      <td>0</td>\n",
       "    </tr>\n",
       "    <tr>\n",
       "      <th>4</th>\n",
       "      <td>3</td>\n",
       "      <td>Sutehall, Mr. Henry Jr</td>\n",
       "      <td>male</td>\n",
       "      <td>25.0</td>\n",
       "      <td>0</td>\n",
       "      <td>0</td>\n",
       "      <td>SOTON/OQ 392076</td>\n",
       "      <td>7.050</td>\n",
       "      <td>NaN</td>\n",
       "      <td>S</td>\n",
       "      <td>0</td>\n",
       "    </tr>\n",
       "  </tbody>\n",
       "</table>\n",
       "</div>"
      ],
      "text/plain": [
       "   Pclass                                            Name     Sex   Age  \\\n",
       "0       2   Weisz, Mrs. Leopold (Mathilde Francoise Pede)  female  29.0   \n",
       "1       3               Williams, Mr. Howard Hugh \"Harry\"    male   NaN   \n",
       "2       2  Morley, Mr. Henry Samuel (\"Mr Henry Marshall\")    male  39.0   \n",
       "3       3     Palsson, Mrs. Nils (Alma Cornelia Berglund)  female  29.0   \n",
       "4       3                          Sutehall, Mr. Henry Jr    male  25.0   \n",
       "\n",
       "   SibSp  Parch           Ticket    Fare Cabin Embarked  Survived  \n",
       "0      1      0           228414  26.000   NaN        S         1  \n",
       "1      0      0         A/5 2466   8.050   NaN        S         0  \n",
       "2      0      0           250655  26.000   NaN        S         0  \n",
       "3      0      4           349909  21.075   NaN        S         0  \n",
       "4      0      0  SOTON/OQ 392076   7.050   NaN        S         0  "
      ]
     },
     "execution_count": 27,
     "metadata": {},
     "output_type": "execute_result"
    }
   ],
   "source": [
    "titanic = pd.read_csv(\"titanic.csv\")\n",
    "print(titanic.shape)\n",
    "titanic.head()"
   ]
  },
  {
   "cell_type": "code",
   "execution_count": 28,
   "metadata": {},
   "outputs": [
    {
     "data": {
      "text/plain": [
       "0      1\n",
       "1      0\n",
       "2      0\n",
       "3      0\n",
       "4      0\n",
       "      ..\n",
       "886    1\n",
       "887    1\n",
       "888    0\n",
       "889    1\n",
       "890    0\n",
       "Name: Survived, Length: 891, dtype: int64"
      ]
     },
     "execution_count": 28,
     "metadata": {},
     "output_type": "execute_result"
    }
   ],
   "source": [
    "X = titanic.iloc[:,0:titanic.shape[1]-1]\n",
    "Y = titanic.iloc[:,-1]"
   ]
  },
  {
   "cell_type": "code",
   "execution_count": 29,
   "metadata": {},
   "outputs": [
    {
     "name": "stdout",
     "output_type": "stream",
     "text": [
      "<class 'pandas.core.frame.DataFrame'>\n",
      "<class 'pandas.core.series.Series'>\n",
      "<class 'pandas.core.series.Series'>\n"
     ]
    }
   ],
   "source": [
    "from sklearn import model_selection\n",
    "X_train, X_test, Y_train, Y_test = model_selection.train_test_split(X, Y, random_state=123211)\n",
    "print(type(X_train))\n",
    "print(type(Y_train))\n",
    "print(type(Y_test))"
   ]
  },
  {
   "cell_type": "code",
   "execution_count": 30,
   "metadata": {
    "scrolled": true
   },
   "outputs": [
    {
     "name": "stdout",
     "output_type": "stream",
     "text": [
      "(668, 11)\n",
      "(223, 10)\n",
      "(668,)\n"
     ]
    }
   ],
   "source": [
    "X_Y_train = X_train.copy()\n",
    "X_Y_train['Survived'] = Y_train\n",
    "print(X_Y_train.shape)\n",
    "print(X_test.shape)\n",
    "print(Y_train.shape)\n",
    "X_Y_train.to_csv('titanic_x_y_train.csv', index=False)\n",
    "X_train.to_csv('titanic_x_train.csv', index=False)\n",
    "Y_train.to_csv('titanic_y_train.csv', index=False)\n",
    "X_test.to_csv('titanic_x_test.csv', index=False)\n",
    "Y_test.to_csv('titanic_y_test.csv', index=False)"
   ]
  },
  {
   "cell_type": "code",
   "execution_count": 31,
   "metadata": {},
   "outputs": [
    {
     "name": "stdout",
     "output_type": "stream",
     "text": [
      "(668, 11)\n"
     ]
    },
    {
     "data": {
      "text/plain": [
       "Pclass        0\n",
       "Name          0\n",
       "Sex           0\n",
       "Age         128\n",
       "SibSp         0\n",
       "Parch         0\n",
       "Ticket        0\n",
       "Fare          0\n",
       "Cabin       516\n",
       "Embarked      2\n",
       "Survived      0\n",
       "dtype: int64"
      ]
     },
     "execution_count": 31,
     "metadata": {},
     "output_type": "execute_result"
    }
   ],
   "source": [
    "X_Y_train_l = pd.read_csv('titanic_x_y_train.csv', delimiter=',')\n",
    "X_test_l = pd.read_csv('titanic_x_test.csv', delimiter=',')\n",
    "print(X_Y_train_l.shape)\n",
    "X_Y_train_l.isnull().sum()\n",
    "#X_Y_train_l.head()"
   ]
  },
  {
   "cell_type": "code",
   "execution_count": 32,
   "metadata": {},
   "outputs": [
    {
     "name": "stderr",
     "output_type": "stream",
     "text": [
      "C:\\Users\\abhie\\AppData\\Local\\Temp\\ipykernel_16488\\1004790281.py:5: FutureWarning: The default value of numeric_only in DataFrame.median is deprecated. In a future version, it will default to False. In addition, specifying 'numeric_only=None' is deprecated. Select only valid columns or specify the value of numeric_only to silence this warning.\n",
      "  X_Y_train_l = X_Y_train_l.fillna(X_Y_train_l.median())\n"
     ]
    },
    {
     "data": {
      "text/html": [
       "<div>\n",
       "<style scoped>\n",
       "    .dataframe tbody tr th:only-of-type {\n",
       "        vertical-align: middle;\n",
       "    }\n",
       "\n",
       "    .dataframe tbody tr th {\n",
       "        vertical-align: top;\n",
       "    }\n",
       "\n",
       "    .dataframe thead th {\n",
       "        text-align: right;\n",
       "    }\n",
       "</style>\n",
       "<table border=\"1\" class=\"dataframe\">\n",
       "  <thead>\n",
       "    <tr style=\"text-align: right;\">\n",
       "      <th></th>\n",
       "      <th>Pclass</th>\n",
       "      <th>Sex</th>\n",
       "      <th>Age</th>\n",
       "      <th>SibSp</th>\n",
       "      <th>Parch</th>\n",
       "      <th>Embarked</th>\n",
       "      <th>Survived</th>\n",
       "    </tr>\n",
       "  </thead>\n",
       "  <tbody>\n",
       "    <tr>\n",
       "      <th>0</th>\n",
       "      <td>1</td>\n",
       "      <td>male</td>\n",
       "      <td>54.0</td>\n",
       "      <td>0</td>\n",
       "      <td>0</td>\n",
       "      <td>S</td>\n",
       "      <td>0</td>\n",
       "    </tr>\n",
       "    <tr>\n",
       "      <th>1</th>\n",
       "      <td>3</td>\n",
       "      <td>male</td>\n",
       "      <td>20.0</td>\n",
       "      <td>0</td>\n",
       "      <td>0</td>\n",
       "      <td>S</td>\n",
       "      <td>0</td>\n",
       "    </tr>\n",
       "    <tr>\n",
       "      <th>2</th>\n",
       "      <td>3</td>\n",
       "      <td>male</td>\n",
       "      <td>61.0</td>\n",
       "      <td>0</td>\n",
       "      <td>0</td>\n",
       "      <td>S</td>\n",
       "      <td>0</td>\n",
       "    </tr>\n",
       "    <tr>\n",
       "      <th>3</th>\n",
       "      <td>3</td>\n",
       "      <td>male</td>\n",
       "      <td>33.0</td>\n",
       "      <td>0</td>\n",
       "      <td>0</td>\n",
       "      <td>S</td>\n",
       "      <td>0</td>\n",
       "    </tr>\n",
       "    <tr>\n",
       "      <th>4</th>\n",
       "      <td>1</td>\n",
       "      <td>male</td>\n",
       "      <td>36.0</td>\n",
       "      <td>0</td>\n",
       "      <td>1</td>\n",
       "      <td>C</td>\n",
       "      <td>0</td>\n",
       "    </tr>\n",
       "  </tbody>\n",
       "</table>\n",
       "</div>"
      ],
      "text/plain": [
       "   Pclass   Sex   Age  SibSp  Parch Embarked  Survived\n",
       "0       1  male  54.0      0      0        S         0\n",
       "1       3  male  20.0      0      0        S         0\n",
       "2       3  male  61.0      0      0        S         0\n",
       "3       3  male  33.0      0      0        S         0\n",
       "4       1  male  36.0      0      1        C         0"
      ]
     },
     "execution_count": 32,
     "metadata": {},
     "output_type": "execute_result"
    }
   ],
   "source": [
    "del X_Y_train_l[\"Name\"]\n",
    "del X_Y_train_l[\"Ticket\"]\n",
    "del X_Y_train_l[\"Cabin\"]\n",
    "del X_Y_train_l[\"Fare\"]\n",
    "X_Y_train_l = X_Y_train_l.fillna(X_Y_train_l.median())\n",
    "X_Y_train_l.head()"
   ]
  },
  {
   "cell_type": "code",
   "execution_count": 23,
   "metadata": {},
   "outputs": [],
   "source": [
    "del X_test_l[\"Name\"]\n",
    "del X_test_l[\"Ticket\"]\n",
    "del X_test_l[\"Cabin\"]\n",
    "del X_test_l[\"Fare\"]"
   ]
  },
  {
   "cell_type": "code",
   "execution_count": 16,
   "metadata": {},
   "outputs": [
    {
     "name": "stdout",
     "output_type": "stream",
     "text": [
      "Pclass        0\n",
      "Sex           0\n",
      "Age         128\n",
      "SibSp         0\n",
      "Parch         0\n",
      "Embarked      2\n",
      "Survived    162\n",
      "dtype: int64\n",
      "(668, 7)\n",
      "Pclass      0\n",
      "Sex         0\n",
      "Age         0\n",
      "SibSp       0\n",
      "Parch       0\n",
      "Embarked    2\n",
      "Survived    0\n",
      "dtype: int64\n"
     ]
    },
    {
     "name": "stderr",
     "output_type": "stream",
     "text": [
      "C:\\Users\\abhie\\AppData\\Local\\Temp\\ipykernel_16488\\73343569.py:4: FutureWarning: The default value of numeric_only in DataFrame.median is deprecated. In a future version, it will default to False. In addition, specifying 'numeric_only=None' is deprecated. Select only valid columns or specify the value of numeric_only to silence this warning.\n",
      "  X_Y_train_l = X_Y_train_l.fillna(X_Y_train_l.median())\n"
     ]
    },
    {
     "data": {
      "text/plain": [
       "(668, 7)"
      ]
     },
     "execution_count": 16,
     "metadata": {},
     "output_type": "execute_result"
    }
   ],
   "source": [
    "print(X_Y_train_l.isnull().sum())\n",
    "print(X_Y_train_l.shape)\n",
    "#X_Y_train_l.dropna(inplace=True)\n",
    "X_Y_train_l = X_Y_train_l.fillna(X_Y_train_l.median())\n",
    "print(X_Y_train_l.isnull().sum())\n",
    "X_Y_train_l.shape"
   ]
  },
  {
   "cell_type": "code",
   "execution_count": 38,
   "metadata": {},
   "outputs": [
    {
     "name": "stdout",
     "output_type": "stream",
     "text": [
      "Pclass      0\n",
      "Sex         0\n",
      "Age         0\n",
      "SibSp       0\n",
      "Parch       0\n",
      "Embarked    0\n",
      "Survived    0\n",
      "dtype: int64\n"
     ]
    },
    {
     "data": {
      "text/plain": [
       "(667, 7)"
      ]
     },
     "execution_count": 38,
     "metadata": {},
     "output_type": "execute_result"
    }
   ],
   "source": [
    "X_Y_train_l.dropna(inplace=True)\n",
    "print(X_Y_train_l.isnull().sum())\n",
    "X_Y_train_l.shape"
   ]
  },
  {
   "cell_type": "code",
   "execution_count": 39,
   "metadata": {},
   "outputs": [
    {
     "name": "stdout",
     "output_type": "stream",
     "text": [
      "(667, 6)\n",
      "(667,)\n",
      "0      1\n",
      "1      1\n",
      "2      0\n",
      "3      0\n",
      "4      0\n",
      "5      0\n",
      "6      0\n",
      "7      0\n",
      "8      0\n",
      "9      1\n",
      "10     1\n",
      "11     0\n",
      "12     1\n",
      "13     0\n",
      "14     0\n",
      "15     0\n",
      "16     0\n",
      "17     0\n",
      "18     0\n",
      "19     0\n",
      "20     0\n",
      "21     0\n",
      "22     0\n",
      "23     0\n",
      "24     0\n",
      "25     1\n",
      "26     1\n",
      "27     0\n",
      "28     1\n",
      "29     0\n",
      "      ..\n",
      "638    1\n",
      "639    0\n",
      "640    0\n",
      "641    0\n",
      "642    0\n",
      "643    0\n",
      "644    1\n",
      "645    0\n",
      "646    0\n",
      "647    0\n",
      "648    0\n",
      "649    1\n",
      "650    1\n",
      "651    1\n",
      "652    0\n",
      "653    0\n",
      "654    0\n",
      "655    1\n",
      "656    1\n",
      "657    1\n",
      "658    0\n",
      "659    0\n",
      "660    1\n",
      "661    0\n",
      "662    0\n",
      "663    1\n",
      "664    0\n",
      "665    0\n",
      "666    1\n",
      "667    0\n",
      "Name: Survived, Length: 667, dtype: int64\n"
     ]
    }
   ],
   "source": [
    "X_train_l = X_Y_train_l.iloc[:,:X_Y_train_l.shape[1]-1]\n",
    "print(X_train_l.shape)\n",
    "Y_train_l = X_Y_train_l.iloc[:,-1]\n",
    "print(Y_train_l.shape)\n",
    "print(Y_train_l)"
   ]
  },
  {
   "cell_type": "code",
   "execution_count": 40,
   "metadata": {},
   "outputs": [
    {
     "name": "stdout",
     "output_type": "stream",
     "text": [
      "     Pclass     Sex   Age  SibSp  Parch Embarked  gender\n",
      "0         2    male  62.0      0      0        S       1\n",
      "1         2  female  28.0      0      0        S       2\n",
      "2         3    male  30.0      1      0        S       1\n",
      "3         3    male  19.0      0      0        S       1\n",
      "4         3    male  31.0      0      0        Q       1\n",
      "5         3    male  28.0      1      0        S       1\n",
      "6         3  female  21.0      0      0        Q       2\n",
      "7         2    male  54.0      0      0        S       1\n",
      "8         3    male  26.0      0      0        S       1\n",
      "9         1  female  31.0      0      2        S       2\n",
      "10        1    male  45.0      0      0        S       1\n",
      "11        3    male  18.0      0      0        S       1\n",
      "12        1  female  39.0      1      1        S       2\n",
      "13        1    male  29.0      1      0        S       1\n",
      "14        3    male  45.5      0      0        C       1\n",
      "15        2    male  25.0      1      0        S       1\n",
      "16        3    male  28.0      0      0        Q       1\n",
      "17        3  female  24.0      0      0        S       2\n",
      "18        3    male  28.0      0      0        Q       1\n",
      "19        3    male  24.0      2      0        S       1\n",
      "20        3    male  17.0      0      0        S       1\n",
      "21        1    male  70.0      1      1        S       1\n",
      "22        1    male  65.0      0      1        C       1\n",
      "23        3    male  23.0      0      0        S       1\n",
      "24        3    male  22.0      0      0        S       1\n",
      "25        3  female  28.0      0      0        Q       2\n",
      "26        3    male  28.0      0      0        Q       1\n",
      "27        3    male  19.0      0      0        S       1\n",
      "28        1  female  48.0      0      0        S       2\n",
      "29        3    male  28.0      0      0        S       1\n",
      "..      ...     ...   ...    ...    ...      ...     ...\n",
      "638       2    male  28.0      0      0        C       1\n",
      "639       3    male  39.0      0      0        S       1\n",
      "640       3  female  29.0      1      1        S       2\n",
      "641       3    male  40.0      1      4        S       1\n",
      "642       1    male  52.0      1      1        S       1\n",
      "643       3    male  28.0      0      0        S       1\n",
      "644       2  female  23.0      0      0        C       2\n",
      "645       3  female  28.0      0      0        S       2\n",
      "646       3  female  28.0      0      0        Q       2\n",
      "647       3    male  22.0      0      0        S       1\n",
      "648       3    male  43.0      0      0        S       1\n",
      "649       2  female  29.0      1      0        S       2\n",
      "650       1    male  80.0      0      0        S       1\n",
      "651       3    male  28.0      0      0        C       1\n",
      "652       3    male  28.0      0      0        S       1\n",
      "653       3    male  61.0      0      0        S       1\n",
      "654       1    male  24.0      0      0        C       1\n",
      "655       1  female  30.0      0      0        S       2\n",
      "656       1  female  40.0      1      1        C       2\n",
      "657       1  female  39.0      1      1        C       2\n",
      "658       1    male  28.0      0      0        S       1\n",
      "659       3    male  26.0      2      0        S       1\n",
      "660       1    male  35.0      0      0        C       1\n",
      "661       3    male  28.0      0      0        S       1\n",
      "662       3    male  28.5      0      0        S       1\n",
      "663       3    male  21.0      0      0        S       1\n",
      "664       3  female  28.0      0      0        Q       2\n",
      "665       1    male  28.0      0      0        S       1\n",
      "666       1    male  28.0      0      0        S       1\n",
      "667       3  female  14.0      0      0        S       2\n",
      "\n",
      "[667 rows x 7 columns]\n"
     ]
    },
    {
     "data": {
      "text/html": [
       "<div>\n",
       "<style>\n",
       "    .dataframe thead tr:only-child th {\n",
       "        text-align: right;\n",
       "    }\n",
       "\n",
       "    .dataframe thead th {\n",
       "        text-align: left;\n",
       "    }\n",
       "\n",
       "    .dataframe tbody tr th {\n",
       "        vertical-align: top;\n",
       "    }\n",
       "</style>\n",
       "<table border=\"1\" class=\"dataframe\">\n",
       "  <thead>\n",
       "    <tr style=\"text-align: right;\">\n",
       "      <th></th>\n",
       "      <th>Pclass</th>\n",
       "      <th>Age</th>\n",
       "      <th>SibSp</th>\n",
       "      <th>Parch</th>\n",
       "      <th>Embarked</th>\n",
       "      <th>gender</th>\n",
       "    </tr>\n",
       "  </thead>\n",
       "  <tbody>\n",
       "    <tr>\n",
       "      <th>0</th>\n",
       "      <td>2</td>\n",
       "      <td>62.0</td>\n",
       "      <td>0</td>\n",
       "      <td>0</td>\n",
       "      <td>S</td>\n",
       "      <td>1</td>\n",
       "    </tr>\n",
       "    <tr>\n",
       "      <th>1</th>\n",
       "      <td>2</td>\n",
       "      <td>28.0</td>\n",
       "      <td>0</td>\n",
       "      <td>0</td>\n",
       "      <td>S</td>\n",
       "      <td>2</td>\n",
       "    </tr>\n",
       "    <tr>\n",
       "      <th>2</th>\n",
       "      <td>3</td>\n",
       "      <td>30.0</td>\n",
       "      <td>1</td>\n",
       "      <td>0</td>\n",
       "      <td>S</td>\n",
       "      <td>1</td>\n",
       "    </tr>\n",
       "    <tr>\n",
       "      <th>3</th>\n",
       "      <td>3</td>\n",
       "      <td>19.0</td>\n",
       "      <td>0</td>\n",
       "      <td>0</td>\n",
       "      <td>S</td>\n",
       "      <td>1</td>\n",
       "    </tr>\n",
       "    <tr>\n",
       "      <th>4</th>\n",
       "      <td>3</td>\n",
       "      <td>31.0</td>\n",
       "      <td>0</td>\n",
       "      <td>0</td>\n",
       "      <td>Q</td>\n",
       "      <td>1</td>\n",
       "    </tr>\n",
       "  </tbody>\n",
       "</table>\n",
       "</div>"
      ],
      "text/plain": [
       "   Pclass   Age  SibSp  Parch Embarked  gender\n",
       "0       2  62.0      0      0        S       1\n",
       "1       2  28.0      0      0        S       2\n",
       "2       3  30.0      1      0        S       1\n",
       "3       3  19.0      0      0        S       1\n",
       "4       3  31.0      0      0        Q       1"
      ]
     },
     "execution_count": 40,
     "metadata": {},
     "output_type": "execute_result"
    }
   ],
   "source": [
    "def getNumber(str):\n",
    "    if str==\"male\":\n",
    "        return 1\n",
    "    else:\n",
    "        return 2\n",
    "X_train_l['gender']=X_train_l[\"Sex\"].apply(getNumber)\n",
    "print(X_train_l)\n",
    "del X_train_l[\"Sex\"]\n",
    "X_train_l.head()"
   ]
  },
  {
   "cell_type": "code",
   "execution_count": 41,
   "metadata": {},
   "outputs": [
    {
     "name": "stdout",
     "output_type": "stream",
     "text": [
      "     Pclass     Sex   Age  SibSp  Parch Embarked  gender\n",
      "0         1    male  34.0      0      0        S       1\n",
      "1         1    male  40.0      0      0        C       1\n",
      "2         1  female  52.0      1      0        C       2\n",
      "3         3    male  24.0      0      0        S       1\n",
      "4         2    male  31.0      1      1        C       1\n",
      "5         2  female  41.0      0      1        S       2\n",
      "6         1    male  60.0      1      1        C       1\n",
      "7         1    male  61.0      0      0        S       1\n",
      "8         3    male  15.0      1      1        C       1\n",
      "9         3    male  38.0      0      0        S       1\n",
      "10        2  female  40.0      0      0        S       2\n",
      "11        1  female  29.0      0      0        S       2\n",
      "12        3    male  36.0      0      0        S       1\n",
      "13        3    male  24.0      1      0        S       1\n",
      "14        3    male   NaN      0      0        S       1\n",
      "15        3    male   NaN      0      0        Q       1\n",
      "16        1  female  33.0      1      0        S       2\n",
      "17        3    male   NaN      0      0        S       1\n",
      "18        3  female  19.0      0      0        Q       2\n",
      "19        1  female  21.0      0      0        S       2\n",
      "20        3  female  45.0      1      4        S       2\n",
      "21        2    male  29.0      1      0        S       1\n",
      "22        1    male  17.0      0      2        C       1\n",
      "23        3    male  50.0      0      0        S       1\n",
      "24        2  female  50.0      0      0        S       2\n",
      "25        3  female  21.0      2      2        S       2\n",
      "26        1  female  18.0      2      2        C       2\n",
      "27        1  female  45.0      1      1        S       2\n",
      "28        2    male  23.0      0      0        S       1\n",
      "29        1  female  54.0      1      0        C       2\n",
      "..      ...     ...   ...    ...    ...      ...     ...\n",
      "193       1    male  49.0      1      0        C       1\n",
      "194       3    male  28.0      0      0        S       1\n",
      "195       3  female   NaN      2      0        Q       2\n",
      "196       1    male   NaN      0      0        S       1\n",
      "197       3    male  32.0      0      0        S       1\n",
      "198       3    male   NaN      0      0        S       1\n",
      "199       3    male   1.0      5      2        S       1\n",
      "200       2    male  23.0      0      0        S       1\n",
      "201       2  female  34.0      0      1        S       2\n",
      "202       1  female  16.0      0      1        C       2\n",
      "203       3    male  11.0      0      0        C       1\n",
      "204       3  female  38.0      1      5        S       2\n",
      "205       2  female   5.0      1      2        S       2\n",
      "206       2  female  18.0      0      1        S       2\n",
      "207       3    male  21.0      0      0        S       1\n",
      "208       3  female   NaN      0      0        Q       2\n",
      "209       1  female  17.0      1      0        S       2\n",
      "210       3    male  34.0      0      0        S       1\n",
      "211       3    male  22.0      0      0        S       1\n",
      "212       2    male  42.0      1      0        S       1\n",
      "213       3    male  32.0      0      0        S       1\n",
      "214       1    male  48.0      1      0        C       1\n",
      "215       3    male  19.0      0      0        S       1\n",
      "216       1    male  38.0      0      1        S       1\n",
      "217       1    male  38.0      0      0        S       1\n",
      "218       1    male  27.0      1      0        S       1\n",
      "219       3    male   NaN      0      0        S       1\n",
      "220       3    male  21.0      0      0        S       1\n",
      "221       2  female   NaN      0      0        Q       2\n",
      "222       3    male  27.0      1      0        C       1\n",
      "\n",
      "[223 rows x 7 columns]\n"
     ]
    },
    {
     "data": {
      "text/html": [
       "<div>\n",
       "<style>\n",
       "    .dataframe thead tr:only-child th {\n",
       "        text-align: right;\n",
       "    }\n",
       "\n",
       "    .dataframe thead th {\n",
       "        text-align: left;\n",
       "    }\n",
       "\n",
       "    .dataframe tbody tr th {\n",
       "        vertical-align: top;\n",
       "    }\n",
       "</style>\n",
       "<table border=\"1\" class=\"dataframe\">\n",
       "  <thead>\n",
       "    <tr style=\"text-align: right;\">\n",
       "      <th></th>\n",
       "      <th>Pclass</th>\n",
       "      <th>Age</th>\n",
       "      <th>SibSp</th>\n",
       "      <th>Parch</th>\n",
       "      <th>Embarked</th>\n",
       "      <th>gender</th>\n",
       "    </tr>\n",
       "  </thead>\n",
       "  <tbody>\n",
       "    <tr>\n",
       "      <th>0</th>\n",
       "      <td>1</td>\n",
       "      <td>34.0</td>\n",
       "      <td>0</td>\n",
       "      <td>0</td>\n",
       "      <td>S</td>\n",
       "      <td>1</td>\n",
       "    </tr>\n",
       "    <tr>\n",
       "      <th>1</th>\n",
       "      <td>1</td>\n",
       "      <td>40.0</td>\n",
       "      <td>0</td>\n",
       "      <td>0</td>\n",
       "      <td>C</td>\n",
       "      <td>1</td>\n",
       "    </tr>\n",
       "    <tr>\n",
       "      <th>2</th>\n",
       "      <td>1</td>\n",
       "      <td>52.0</td>\n",
       "      <td>1</td>\n",
       "      <td>0</td>\n",
       "      <td>C</td>\n",
       "      <td>2</td>\n",
       "    </tr>\n",
       "    <tr>\n",
       "      <th>3</th>\n",
       "      <td>3</td>\n",
       "      <td>24.0</td>\n",
       "      <td>0</td>\n",
       "      <td>0</td>\n",
       "      <td>S</td>\n",
       "      <td>1</td>\n",
       "    </tr>\n",
       "    <tr>\n",
       "      <th>4</th>\n",
       "      <td>2</td>\n",
       "      <td>31.0</td>\n",
       "      <td>1</td>\n",
       "      <td>1</td>\n",
       "      <td>C</td>\n",
       "      <td>1</td>\n",
       "    </tr>\n",
       "  </tbody>\n",
       "</table>\n",
       "</div>"
      ],
      "text/plain": [
       "   Pclass   Age  SibSp  Parch Embarked  gender\n",
       "0       1  34.0      0      0        S       1\n",
       "1       1  40.0      0      0        C       1\n",
       "2       1  52.0      1      0        C       2\n",
       "3       3  24.0      0      0        S       1\n",
       "4       2  31.0      1      1        C       1"
      ]
     },
     "execution_count": 41,
     "metadata": {},
     "output_type": "execute_result"
    }
   ],
   "source": [
    "X_test_l['gender']=X_test_l[\"Sex\"].apply(getNumber)\n",
    "print(X_test_l)\n",
    "del X_test_l[\"Sex\"]\n",
    "X_test_l.head()"
   ]
  },
  {
   "cell_type": "code",
   "execution_count": 42,
   "metadata": {},
   "outputs": [
    {
     "name": "stdout",
     "output_type": "stream",
     "text": [
      "     Pclass   Age  SibSp  Parch  Embarked  gender\n",
      "0         2  62.0      0      0         3       1\n",
      "1         2  28.0      0      0         3       2\n",
      "2         3  30.0      1      0         3       1\n",
      "3         3  19.0      0      0         3       1\n",
      "4         3  31.0      0      0         2       1\n",
      "5         3  28.0      1      0         3       1\n",
      "6         3  21.0      0      0         2       2\n",
      "7         2  54.0      0      0         3       1\n",
      "8         3  26.0      0      0         3       1\n",
      "9         1  31.0      0      2         3       2\n",
      "10        1  45.0      0      0         3       1\n",
      "11        3  18.0      0      0         3       1\n",
      "12        1  39.0      1      1         3       2\n",
      "13        1  29.0      1      0         3       1\n",
      "14        3  45.5      0      0         1       1\n",
      "15        2  25.0      1      0         3       1\n",
      "16        3  28.0      0      0         2       1\n",
      "17        3  24.0      0      0         3       2\n",
      "18        3  28.0      0      0         2       1\n",
      "19        3  24.0      2      0         3       1\n",
      "20        3  17.0      0      0         3       1\n",
      "21        1  70.0      1      1         3       1\n",
      "22        1  65.0      0      1         1       1\n",
      "23        3  23.0      0      0         3       1\n",
      "24        3  22.0      0      0         3       1\n",
      "25        3  28.0      0      0         2       2\n",
      "26        3  28.0      0      0         2       1\n",
      "27        3  19.0      0      0         3       1\n",
      "28        1  48.0      0      0         3       2\n",
      "29        3  28.0      0      0         3       1\n",
      "..      ...   ...    ...    ...       ...     ...\n",
      "638       2  28.0      0      0         1       1\n",
      "639       3  39.0      0      0         3       1\n",
      "640       3  29.0      1      1         3       2\n",
      "641       3  40.0      1      4         3       1\n",
      "642       1  52.0      1      1         3       1\n",
      "643       3  28.0      0      0         3       1\n",
      "644       2  23.0      0      0         1       2\n",
      "645       3  28.0      0      0         3       2\n",
      "646       3  28.0      0      0         2       2\n",
      "647       3  22.0      0      0         3       1\n",
      "648       3  43.0      0      0         3       1\n",
      "649       2  29.0      1      0         3       2\n",
      "650       1  80.0      0      0         3       1\n",
      "651       3  28.0      0      0         1       1\n",
      "652       3  28.0      0      0         3       1\n",
      "653       3  61.0      0      0         3       1\n",
      "654       1  24.0      0      0         1       1\n",
      "655       1  30.0      0      0         3       2\n",
      "656       1  40.0      1      1         1       2\n",
      "657       1  39.0      1      1         1       2\n",
      "658       1  28.0      0      0         3       1\n",
      "659       3  26.0      2      0         3       1\n",
      "660       1  35.0      0      0         1       1\n",
      "661       3  28.0      0      0         3       1\n",
      "662       3  28.5      0      0         3       1\n",
      "663       3  21.0      0      0         3       1\n",
      "664       3  28.0      0      0         2       2\n",
      "665       1  28.0      0      0         3       1\n",
      "666       1  28.0      0      0         3       1\n",
      "667       3  14.0      0      0         3       2\n",
      "\n",
      "[667 rows x 6 columns]\n"
     ]
    }
   ],
   "source": [
    "def getNumberEmbarked(str):\n",
    "    if str=='C':\n",
    "        return 1\n",
    "    elif str=='Q':\n",
    "        return 2\n",
    "    else:\n",
    "        return 3\n",
    "X_train_l['Embarked']=X_train_l[\"Embarked\"].apply(getNumberEmbarked)\n",
    "print(X_train_l)"
   ]
  },
  {
   "cell_type": "code",
   "execution_count": 43,
   "metadata": {},
   "outputs": [
    {
     "name": "stdout",
     "output_type": "stream",
     "text": [
      "     Pclass   Age  SibSp  Parch  Embarked  gender\n",
      "0         1  34.0      0      0         3       1\n",
      "1         1  40.0      0      0         1       1\n",
      "2         1  52.0      1      0         1       2\n",
      "3         3  24.0      0      0         3       1\n",
      "4         2  31.0      1      1         1       1\n",
      "5         2  41.0      0      1         3       2\n",
      "6         1  60.0      1      1         1       1\n",
      "7         1  61.0      0      0         3       1\n",
      "8         3  15.0      1      1         1       1\n",
      "9         3  38.0      0      0         3       1\n",
      "10        2  40.0      0      0         3       2\n",
      "11        1  29.0      0      0         3       2\n",
      "12        3  36.0      0      0         3       1\n",
      "13        3  24.0      1      0         3       1\n",
      "14        3   NaN      0      0         3       1\n",
      "15        3   NaN      0      0         2       1\n",
      "16        1  33.0      1      0         3       2\n",
      "17        3   NaN      0      0         3       1\n",
      "18        3  19.0      0      0         2       2\n",
      "19        1  21.0      0      0         3       2\n",
      "20        3  45.0      1      4         3       2\n",
      "21        2  29.0      1      0         3       1\n",
      "22        1  17.0      0      2         1       1\n",
      "23        3  50.0      0      0         3       1\n",
      "24        2  50.0      0      0         3       2\n",
      "25        3  21.0      2      2         3       2\n",
      "26        1  18.0      2      2         1       2\n",
      "27        1  45.0      1      1         3       2\n",
      "28        2  23.0      0      0         3       1\n",
      "29        1  54.0      1      0         1       2\n",
      "..      ...   ...    ...    ...       ...     ...\n",
      "193       1  49.0      1      0         1       1\n",
      "194       3  28.0      0      0         3       1\n",
      "195       3   NaN      2      0         2       2\n",
      "196       1   NaN      0      0         3       1\n",
      "197       3  32.0      0      0         3       1\n",
      "198       3   NaN      0      0         3       1\n",
      "199       3   1.0      5      2         3       1\n",
      "200       2  23.0      0      0         3       1\n",
      "201       2  34.0      0      1         3       2\n",
      "202       1  16.0      0      1         1       2\n",
      "203       3  11.0      0      0         1       1\n",
      "204       3  38.0      1      5         3       2\n",
      "205       2   5.0      1      2         3       2\n",
      "206       2  18.0      0      1         3       2\n",
      "207       3  21.0      0      0         3       1\n",
      "208       3   NaN      0      0         2       2\n",
      "209       1  17.0      1      0         3       2\n",
      "210       3  34.0      0      0         3       1\n",
      "211       3  22.0      0      0         3       1\n",
      "212       2  42.0      1      0         3       1\n",
      "213       3  32.0      0      0         3       1\n",
      "214       1  48.0      1      0         1       1\n",
      "215       3  19.0      0      0         3       1\n",
      "216       1  38.0      0      1         3       1\n",
      "217       1  38.0      0      0         3       1\n",
      "218       1  27.0      1      0         3       1\n",
      "219       3   NaN      0      0         3       1\n",
      "220       3  21.0      0      0         3       1\n",
      "221       2   NaN      0      0         2       2\n",
      "222       3  27.0      1      0         1       1\n",
      "\n",
      "[223 rows x 6 columns]\n"
     ]
    }
   ],
   "source": [
    "X_test_l['Embarked']=X_test_l[\"Embarked\"].apply(getNumberEmbarked)\n",
    "print(X_test_l)"
   ]
  },
  {
   "cell_type": "code",
   "execution_count": 44,
   "metadata": {},
   "outputs": [
    {
     "name": "stdout",
     "output_type": "stream",
     "text": [
      "Pclass       0\n",
      "Age         36\n",
      "SibSp        0\n",
      "Parch        0\n",
      "Embarked     0\n",
      "gender       0\n",
      "dtype: int64\n"
     ]
    },
    {
     "data": {
      "text/plain": [
       "Pclass      0\n",
       "Age         0\n",
       "SibSp       0\n",
       "Parch       0\n",
       "Embarked    0\n",
       "gender      0\n",
       "dtype: int64"
      ]
     },
     "execution_count": 44,
     "metadata": {},
     "output_type": "execute_result"
    }
   ],
   "source": [
    "print(X_test_l.isnull().sum())\n",
    "X_test_l = X_test_l.fillna(X_test_l.median())\n",
    "X_test_l.isnull().sum()"
   ]
  },
  {
   "cell_type": "code",
   "execution_count": 61,
   "metadata": {},
   "outputs": [
    {
     "data": {
      "text/plain": [
       "(0.94602698650674666, 0.72197309417040356)"
      ]
     },
     "execution_count": 61,
     "metadata": {},
     "output_type": "execute_result"
    }
   ],
   "source": [
    "from sklearn import tree\n",
    "clf = tree.DecisionTreeClassifier()\n",
    "clf.fit(X_train_l, Y_train_l)\n",
    "Y_pred_l = clf.predict(X_test_l)\n",
    "clf.score(X_train_l,Y_train_l), clf.score(X_test_l,Y_test)"
   ]
  },
  {
   "cell_type": "code",
   "execution_count": 63,
   "metadata": {},
   "outputs": [
    {
     "data": {
      "text/plain": [
       "(0.86056971514242875, 0.77130044843049328)"
      ]
     },
     "execution_count": 63,
     "metadata": {},
     "output_type": "execute_result"
    }
   ],
   "source": [
    "from sklearn.ensemble import RandomForestClassifier\n",
    "clf = RandomForestClassifier(max_depth = 6, random_state=0)\n",
    "clf.fit(X_train_l, Y_train_l)\n",
    "clf.score(X_train_l,Y_train_l),clf.score(X_test_l,Y_test)"
   ]
  }
 ],
 "metadata": {
  "kernelspec": {
   "display_name": "Python 3 (ipykernel)",
   "language": "python",
   "name": "python3"
  },
  "language_info": {
   "codemirror_mode": {
    "name": "ipython",
    "version": 3
   },
   "file_extension": ".py",
   "mimetype": "text/x-python",
   "name": "python",
   "nbconvert_exporter": "python",
   "pygments_lexer": "ipython3",
   "version": "3.9.16"
  }
 },
 "nbformat": 4,
 "nbformat_minor": 2
}
