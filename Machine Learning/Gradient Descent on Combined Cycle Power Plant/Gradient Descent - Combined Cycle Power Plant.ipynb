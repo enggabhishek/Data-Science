{
 "cells": [
  {
   "cell_type": "code",
   "execution_count": 11,
   "metadata": {
    "ExecuteTime": {
     "end_time": "2020-08-08T20:18:19.721921Z",
     "start_time": "2020-08-08T20:18:12.545724Z"
    }
   },
   "outputs": [
    {
     "name": "stdout",
     "output_type": "stream",
     "text": [
      "(379, 14)\n"
     ]
    }
   ],
   "source": [
    "import numpy as np\n",
    "from sklearn import model_selection\n",
    "from sklearn import preprocessing as pp\n",
    "from sklearn import ensemble\n",
    "data_train = np.loadtxt(\"training_ccpp_x_y_train.csv\",delimiter=\",\")\n",
    "X_test = np.loadtxt(\"test_ccpp_x_test.csv\",delimiter=\",\")\n",
    "X_train = data_train[:,0:13]\n",
    "Y_train = data_train[:,13]\n",
    "gbr = ensemble.GradientBoostingRegressor(n_estimators=400,max_depth=5,min_samples_split=2,learning_rate=0.1,loss='squared_error')\n",
    "scaler = pp.StandardScaler()\n",
    "scaler.fit(X_train)\n",
    "X_train = scaler.transform(X_train)\n",
    "X_test = scaler.transform(X_test)\n",
    "gbr.fit(X_train,Y_train)\n",
    "y_pred  = gbr.predict(X_test)\n",
    "np.savetxt('y_pred2.csv',y_pred, fmt='%1.5f')\n"
   ]
  },
  {
   "cell_type": "code",
   "execution_count": null,
   "metadata": {},
   "outputs": [],
   "source": []
  }
 ],
 "metadata": {
  "kernelspec": {
   "display_name": "Python 3 (ipykernel)",
   "language": "python",
   "name": "python3"
  },
  "language_info": {
   "codemirror_mode": {
    "name": "ipython",
    "version": 3
   },
   "file_extension": ".py",
   "mimetype": "text/x-python",
   "name": "python",
   "nbconvert_exporter": "python",
   "pygments_lexer": "ipython3",
   "version": "3.9.16"
  }
 },
 "nbformat": 4,
 "nbformat_minor": 4
}
