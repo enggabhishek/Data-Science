{
 "cells": [
  {
   "cell_type": "code",
   "execution_count": 1,
   "id": "d29a0643",
   "metadata": {},
   "outputs": [
    {
     "name": "stdout",
     "output_type": "stream",
     "text": [
      "200\n"
     ]
    }
   ],
   "source": [
    "import requests as req\n",
    "res = req.get('http://api.open-notify.org/iss-now.json')\n",
    "print(res.status_code)"
   ]
  },
  {
   "cell_type": "code",
   "execution_count": 2,
   "id": "5afe9376",
   "metadata": {},
   "outputs": [
    {
     "name": "stdout",
     "output_type": "stream",
     "text": [
      "afghan\n",
      "basset\n",
      "blood\n",
      "english\n",
      "ibizan\n",
      "plott\n",
      "walker\n"
     ]
    }
   ],
   "source": [
    "import requests as req\n",
    "import json\n",
    "res=req.get('https://dog.ceo/api/breeds/list/all')\n",
    "json_data=res.text\n",
    "python_data=json.loads(json_data)\n",
    "for key,value in python_data[\"message\"].items():\n",
    "    if key=='hound':\n",
    "        for i in value:\n",
    "            print(i)"
   ]
  },
  {
   "cell_type": "code",
   "execution_count": 4,
   "id": "5fe107c1",
   "metadata": {},
   "outputs": [
    {
     "name": "stdout",
     "output_type": "stream",
     "text": [
      "id\n",
      "node_id\n",
      "name\n",
      "full_name\n",
      "private\n",
      "owner\n",
      "html_url\n",
      "description\n",
      "fork\n",
      "url\n",
      "forks_url\n",
      "keys_url\n",
      "collaborators_url\n",
      "teams_url\n",
      "hooks_url\n",
      "issue_events_url\n",
      "events_url\n",
      "assignees_url\n",
      "branches_url\n",
      "tags_url\n",
      "blobs_url\n",
      "git_tags_url\n",
      "git_refs_url\n",
      "trees_url\n",
      "statuses_url\n",
      "languages_url\n",
      "stargazers_url\n",
      "contributors_url\n",
      "subscribers_url\n",
      "subscription_url\n",
      "commits_url\n",
      "git_commits_url\n",
      "comments_url\n",
      "issue_comment_url\n",
      "contents_url\n",
      "compare_url\n",
      "merges_url\n",
      "archive_url\n",
      "downloads_url\n",
      "issues_url\n",
      "pulls_url\n",
      "milestones_url\n",
      "notifications_url\n",
      "labels_url\n",
      "releases_url\n",
      "deployments_url\n",
      "created_at\n",
      "updated_at\n",
      "pushed_at\n",
      "git_url\n",
      "ssh_url\n",
      "clone_url\n",
      "svn_url\n",
      "homepage\n",
      "size\n",
      "stargazers_count\n",
      "watchers_count\n",
      "language\n",
      "has_issues\n",
      "has_projects\n",
      "has_downloads\n",
      "has_wiki\n",
      "has_pages\n",
      "has_discussions\n",
      "forks_count\n",
      "mirror_url\n",
      "archived\n",
      "disabled\n",
      "open_issues_count\n",
      "license\n",
      "allow_forking\n",
      "is_template\n",
      "web_commit_signoff_required\n",
      "topics\n",
      "visibility\n",
      "forks\n",
      "open_issues\n",
      "watchers\n",
      "default_branch\n",
      "temp_clone_token\n",
      "organization\n",
      "network_count\n",
      "subscribers_count\n"
     ]
    }
   ],
   "source": [
    "import requests \n",
    "import json \n",
    "from requests.auth import HTTPBasicAuth \n",
    "user_name = \"codingninjas123\" \n",
    "password = \"cnninjas123\" \n",
    "response = requests.get(\"https://api.github.com/repos/google/clusterfuzz\", auth = (user_name, password),headers  = {\"Accept\": \"application/vnd.github.mercy-preview+json\"})\n",
    "r_python = response.json()\n",
    "for key,value in r_python.items():\n",
    "    print(key)"
   ]
  },
  {
   "cell_type": "code",
   "execution_count": 5,
   "id": "bbbd6d42",
   "metadata": {},
   "outputs": [
    {
     "name": "stdout",
     "output_type": "stream",
     "text": [
      "https://www.reddit.com/login/?dest=https%3A%2F%2Fwww.reddit.com%2Fapi%2Fv1%2Fauthorize%3Fclient_id%3DTpFYcoCaPholo2vNBTS4xg%26response_type%3Dcode%26state%3Drandom_123%26redirect_uri%3Dhttps%253A%252F%252Fwww.google.com%252F%26scope%3Dread\n",
      "{\"message\": \"Unauthorized\", \"error\": 401}\n"
     ]
    }
   ],
   "source": [
    "import json\n",
    "import requests as req\n",
    "data ={'client_id': 'TpFYcoCaPholo2vNBTS4xg','response_type': 'code','state' :'random_123',\n",
    "       'redirect_uri':'https://www.google.com/','scope':'read'}\n",
    "res=req.get('https://www.reddit.com/api/v1/authorize',params=data)\n",
    "print(res.url)\n",
    "\n",
    "data={'grant_type':'authorization_code','code':'b-vVdioeaooTF-kqp1PclLDIR4hReg#_',\n",
    "      'redirect_uri':'https://www.google.com/'}\n",
    "r=req.post('https://www.reddit.com/api/v1/access_token',data=data,\n",
    "     auth=('TpFYcoCaPholo2vNBTS4xg','gxx9ZG-ya7qYsIQo6bJdUUjR3oliew'),\n",
    "     headers={'User-Agent':'test'})\n",
    "print(r.text)"
   ]
  },
  {
   "cell_type": "code",
   "execution_count": null,
   "id": "99d8244e",
   "metadata": {},
   "outputs": [],
   "source": []
  }
 ],
 "metadata": {
  "kernelspec": {
   "display_name": "Python 3 (ipykernel)",
   "language": "python",
   "name": "python3"
  },
  "language_info": {
   "codemirror_mode": {
    "name": "ipython",
    "version": 3
   },
   "file_extension": ".py",
   "mimetype": "text/x-python",
   "name": "python",
   "nbconvert_exporter": "python",
   "pygments_lexer": "ipython3",
   "version": "3.9.16"
  }
 },
 "nbformat": 4,
 "nbformat_minor": 5
}
