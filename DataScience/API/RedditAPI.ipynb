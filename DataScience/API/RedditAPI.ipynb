{
 "cells": [
  {
   "cell_type": "code",
   "execution_count": 11,
   "id": "410a5aba",
   "metadata": {},
   "outputs": [
    {
     "name": "stdout",
     "output_type": "stream",
     "text": [
      "https://www.reddit.com/api/v1/authorize?client_id=8f55f17b412bb9e1e548&response_type=code&state=random_123&redirect_uri=https%3A%2F%2Fwww.google.com%2F&scope=read\n"
     ]
    }
   ],
   "source": [
    "import json\n",
    "import requests as req\n",
    "data ={'client_id': '8f55f17b412bb9e1e548','response_type': 'code','state' :'random_123',\n",
    "       'redirect_uri':'https://www.google.com/','scope':'read'}\n",
    "res=req.get('https://www.reddit.com/api/v1/authorize',params=data)\n",
    "print(res.url)"
   ]
  },
  {
   "cell_type": "code",
   "execution_count": 10,
   "id": "57b6a89d",
   "metadata": {},
   "outputs": [
    {
     "name": "stdout",
     "output_type": "stream",
     "text": [
      "{\"error\": \"invalid_grant\"}\n"
     ]
    }
   ],
   "source": [
    "data={'grant_type':'authorization_code','code':'W-5nTmG-aWe8yxdrKMUwwmfzjuoUvA#_',\n",
    "      'redirect_uri':'https://www.google.com/'}\n",
    "r=req.post('https://www.reddit.com/api/v1/access_token',data=data,\n",
    "     auth=('ciBzr2eLyBAJOmJQYzoCmA','9vWNsE0-yEdgeG-I7XSjsf2vsGZQKw'),\n",
    "     headers={'User-Agent':'Sea_Classroom1792'})\n",
    "print(r.text)"
   ]
  },
  {
   "cell_type": "code",
   "execution_count": null,
   "id": "c6f43075",
   "metadata": {},
   "outputs": [],
   "source": []
  }
 ],
 "metadata": {
  "kernelspec": {
   "display_name": "Python 3 (ipykernel)",
   "language": "python",
   "name": "python3"
  },
  "language_info": {
   "codemirror_mode": {
    "name": "ipython",
    "version": 3
   },
   "file_extension": ".py",
   "mimetype": "text/x-python",
   "name": "python",
   "nbconvert_exporter": "python",
   "pygments_lexer": "ipython3",
   "version": "3.9.16"
  }
 },
 "nbformat": 4,
 "nbformat_minor": 5
}
