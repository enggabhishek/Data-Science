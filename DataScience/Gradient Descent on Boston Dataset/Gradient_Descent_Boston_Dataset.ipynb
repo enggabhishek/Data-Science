{
 "cells": [
  {
   "cell_type": "code",
   "execution_count": 2,
   "id": "4d44116e",
   "metadata": {},
   "outputs": [],
   "source": [
    "import numpy as np\n",
    "import sklearn.model_selection as ms\n",
    "import sklearn.preprocessing as ppg\n",
    "from sklearn.linear_model import LinearRegression as LR\n",
    "from sklearn.ensemble import GradientBoostingRegressor as GBR"
   ]
  },
  {
   "cell_type": "code",
   "execution_count": 3,
   "id": "3adafe58",
   "metadata": {},
   "outputs": [],
   "source": [
    "data = np.loadtxt(\"training_boston_x_y_train.csv\", delimiter =\",\")\n",
    "x_train = data[:,:-1]\n",
    "y_train = data[:, -1]\n",
    "x_test = np.loadtxt(\"test_boston_x_test.csv\", delimiter = \",\")\n"
   ]
  },
  {
   "cell_type": "code",
   "execution_count": 4,
   "id": "44c626c3",
   "metadata": {},
   "outputs": [
    {
     "name": "stdout",
     "output_type": "stream",
     "text": [
      "[11.84092569 26.80499145 17.49201896 22.06512279 21.19058003 12.2832724\n",
      " 28.87118865 25.20237061 18.77275134 22.99272373 23.39058111 17.6291958\n",
      " 19.64676654 20.87639405 51.86380438 21.03836143 23.49131107 22.87310447\n",
      " 19.17816831 30.6365982  20.89789526 21.49588187 36.62299579 31.39775722\n",
      " 33.44746403 16.38574194 20.47642029 30.64770333 19.97381035 28.7847961\n",
      " 17.218498   24.68879147 20.79190642 22.83448526  8.58056865 23.80896034\n",
      " 22.57697789 20.44057093 22.71189925  8.0482711  14.90849848 23.59244202\n",
      " 24.95488351 19.90148152 21.80376912  9.42013033 43.705159   24.57774682\n",
      " 34.08549728 12.83411894 14.06393226 45.23318763 14.38762866 20.95608777\n",
      " 17.02834623 19.74580756 18.88744499 22.4778254  15.32494152 15.84899874\n",
      " 13.68437009 27.27249687 22.29881719 23.0038954  14.49435547 16.20543174\n",
      " 32.88520177 12.57183546 20.91664926 21.38865206 26.89060552 22.4160134\n",
      " 17.53180895  8.11667681 40.74565126 21.66773253 24.81218576 24.68577454\n",
      " 11.18676181 32.62948531 20.3474716  20.47947875 20.9030367  18.45394969\n",
      " 15.88697786 36.08870697 26.61758829  8.31281089 20.93956808 16.5878904\n",
      " 21.40239227 19.05957425 18.87936783 10.27898014 20.81163149 23.90967272\n",
      " 46.26701445 18.78391226 34.92344671 22.95026495 23.80000929 20.88890302\n",
      " 21.41269253 24.72749571 14.72046185 24.35839178 21.39943111 45.39593366\n",
      " 22.16544353 13.92815817 21.97323533 20.30781981 17.6803099  17.42008199\n",
      " 43.85734645 18.02096243 20.96953081 24.17746102 21.79142152 18.74070989\n",
      " 14.42705082 33.28475025 22.84731298 21.64251059 22.05724281 20.30405694\n",
      " 17.04964942]\n"
     ]
    }
   ],
   "source": [
    "model = GBR()\n",
    "model.fit(x_train, y_train)\n",
    "y_test = model.predict(x_test)\n",
    "np.savetxt(\"Predictions.csv\", y_test)\n",
    "print(y_test)"
   ]
  },
  {
   "cell_type": "code",
   "execution_count": null,
   "id": "ae018ca6",
   "metadata": {},
   "outputs": [],
   "source": []
  }
 ],
 "metadata": {
  "kernelspec": {
   "display_name": "Python 3 (ipykernel)",
   "language": "python",
   "name": "python3"
  },
  "language_info": {
   "codemirror_mode": {
    "name": "ipython",
    "version": 3
   },
   "file_extension": ".py",
   "mimetype": "text/x-python",
   "name": "python",
   "nbconvert_exporter": "python",
   "pygments_lexer": "ipython3",
   "version": "3.9.16"
  }
 },
 "nbformat": 4,
 "nbformat_minor": 5
}
